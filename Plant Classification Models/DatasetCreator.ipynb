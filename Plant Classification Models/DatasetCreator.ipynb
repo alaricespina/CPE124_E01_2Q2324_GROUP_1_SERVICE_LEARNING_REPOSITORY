{
 "cells": [
  {
   "cell_type": "code",
   "execution_count": 46,
   "metadata": {},
   "outputs": [],
   "source": [
    "import os \n",
    "import tensorflow \n",
    "from PIL import Image, ImageDraw\n",
    "import math\n",
    "import pandas as pd \n",
    "from tqdm import tqdm \n",
    "import random \n",
    "import shutil"
   ]
  },
  {
   "cell_type": "code",
   "execution_count": 47,
   "metadata": {},
   "outputs": [
    {
     "name": "stdout",
     "output_type": "stream",
     "text": [
      "['Artocarpus Heterophyllus (Jackfruit)', 'Blumea Balsamifera (Sambong)', 'Citrus Limon (Lemon)', 'Jasminum (Jasmine)', 'Mangifera Indica (Mango)', 'Mentha (Mint)', 'Momordica Charantia (Ampalaya)', 'Moringa Oleifera (Malunggay)', 'Psidium Guajava (Guava)', 'Vitex Negundo (Lagundi)']\n"
     ]
    }
   ],
   "source": [
    "folder_sources = []\n",
    "Orig_Dataset_path = \"Segmented Herbal Leaf images\"\n",
    "New_Dataset_path = \"Transformed\"\n",
    "\n",
    "for file in os.listdir(Orig_Dataset_path):\n",
    "    folder_sources.append(file)\n",
    "        \n",
    "print(folder_sources)"
   ]
  },
  {
   "cell_type": "code",
   "execution_count": 48,
   "metadata": {},
   "outputs": [],
   "source": [
    "for folder in folder_sources:\n",
    "    f_ = os.path.join(New_Dataset_path, folder)\n",
    "    if not os.path.exists(f_):\n",
    "        os.mkdir(f_)\n",
    "        print(\"Created Path:\", f_)"
   ]
  },
  {
   "cell_type": "code",
   "execution_count": 49,
   "metadata": {},
   "outputs": [],
   "source": [
    "# Degrees is in radians\n",
    "def calculate_new_coords(degrees, x, y, iw, ih):\n",
    "    # qx = ox + math.cos(angle) * (px - ox) - math.sin(angle) * (py - oy)\n",
    "    # qy = oy + math.sin(angle) * (px - ox) + math.cos(angle) * (py - oy)\n",
    "    # res_x = iw / 2 + (x - iw / 2) * math.cos(degrees) + (y - ih / 2) * math.sin(degrees)\n",
    "    # res_y = ih / 2 - (x - iw / 2) * math.sin(degrees) + (y - ih / 2) * math.cos(degrees)\n",
    "\n",
    "    res_x = iw / 2 + (x - iw / 2) * math.cos(degrees) - (y - ih / 2) * math.sin(degrees)\n",
    "    res_y = ih / 2 + (x - iw / 2) * math.sin(degrees) + (y - ih / 2) * math.cos(degrees)\n",
    "    \n",
    "    return (res_x, res_y)"
   ]
  },
  {
   "cell_type": "code",
   "execution_count": 52,
   "metadata": {},
   "outputs": [],
   "source": [
    "BASE_IMAGE_SIZE = ((100, 100))\n",
    "BASE_CANVAS_SIZE = ((200, 200))\n",
    "X_VARIATIONS = 1\n",
    "Y_VARIATIONS = 1\n",
    "ROTATION_VARIATION = 16\n",
    "ROTATION_DEGREES = 360 / ROTATION_VARIATION\n",
    "DRAW_BOUNDING_BOX = False\n",
    "BORDER_WIDTH = 5 \n",
    "BORDER_COLOR = \"Blue\""
   ]
  },
  {
   "cell_type": "code",
   "execution_count": 53,
   "metadata": {},
   "outputs": [
    {
     "name": "stderr",
     "output_type": "stream",
     "text": [
      "100%|██████████| 10/10 [01:09<00:00,  6.94s/it]\n"
     ]
    }
   ],
   "source": [
    "for folder in tqdm(folder_sources):\n",
    "    current_folder_dict = {\n",
    "        \"image_name\" : [],\n",
    "        \"x0\" : [],\n",
    "        \"y0\" : [],\n",
    "        \"x1\" : [],\n",
    "        \"y1\" : [],\n",
    "        \"class\" : []\n",
    "    }\n",
    "\n",
    "    for image in os.listdir(os.path.join(Orig_Dataset_path, folder)):\n",
    "        #print(image)\n",
    "\n",
    "        current_image = Image.open(os.path.join(Orig_Dataset_path, folder, image))\n",
    "        current_image.thumbnail(BASE_IMAGE_SIZE)\n",
    "        \n",
    "        x0, y0 = (0, 0)\n",
    "        x1, y1 = current_image.size \n",
    "        iw, ih = current_image.size \n",
    "        \n",
    "        # Rotate Image\n",
    "        for i in range(ROTATION_VARIATION + 1):\n",
    "            current_degrees = int(i * ROTATION_DEGREES)\n",
    "\n",
    "            rotated_image = current_image.copy()\n",
    "            rotated_image = rotated_image.rotate(current_degrees, expand=True)\n",
    "\n",
    "            r_i_width, r_i_height = rotated_image.size\n",
    "\n",
    "            original_bbox_coords = [(x0, y0), (x1, y0), (x1, y1), (x0, y1)]\n",
    "            _degrees = math.radians(current_degrees)\n",
    "            \n",
    "\n",
    "            new_coords = [calculate_new_coords(_degrees, x, y, iw, ih) for x, y in original_bbox_coords]\n",
    "            x_min, x_max = 0, iw \n",
    "            y_min, y_max = 0, ih \n",
    "\n",
    "            for x, y in new_coords:\n",
    "                x_min = min(x, x_min)\n",
    "                y_min = min(y, y_min)\n",
    "                x_max = max(x, x_max)\n",
    "                y_max = max(y, y_max)\n",
    "\n",
    "            excess_neg_x = abs(min(0, x_min))\n",
    "            excess_neg_y = abs(min(0, y_min))\n",
    "            \n",
    "            final_bbox_coords = [(x_min, y_min), (x_max, y_max)]\n",
    "            final_bbox_coords = [(x + excess_neg_x, y + excess_neg_y) for x, y in final_bbox_coords]\n",
    "            #final_bbox_coords = new_coords\n",
    "                \n",
    "            # Transposition\n",
    "            c_w , c_h = BASE_CANVAS_SIZE\n",
    "\n",
    "            x_steps = abs(r_i_width - c_w) / X_VARIATIONS\n",
    "            y_steps = abs(r_i_height - c_h) / Y_VARIATIONS\n",
    "            \n",
    "            for y in range(Y_VARIATIONS + 1):\n",
    "                for x in range(X_VARIATIONS + 1):\n",
    "                    canvas = Image.new(\"RGB\", BASE_CANVAS_SIZE)\n",
    "                    x_movement, y_movement = int(x_steps) * x, int(y_steps) * y\n",
    "                    canvas.paste(rotated_image, (x_movement, y_movement))\n",
    "                    \n",
    "\n",
    "                    transposed_bbox_coords = [(x + x_movement, y + y_movement) for x, y in final_bbox_coords]\n",
    "                    #print(transposed_bbox_coords)\n",
    "\n",
    "                    if DRAW_BOUNDING_BOX:\n",
    "                        _d = ImageDraw.Draw(canvas)\n",
    "                        _d.rectangle(transposed_bbox_coords, width=BORDER_WIDTH, outline=BORDER_COLOR)\n",
    "\n",
    "                    #display(canvas)\n",
    "\n",
    "                    c0, c1 = transposed_bbox_coords\n",
    "                    _x0, _y0 = c0 \n",
    "                    _x1, _y1 = c1\n",
    "\n",
    "                    \n",
    "                    current_folder_dict[\"x0\"].append(_x0 / c_w) \n",
    "                    current_folder_dict[\"y0\"].append(_y0 / c_h)\n",
    "                    current_folder_dict[\"x1\"].append(_x1 / c_w) \n",
    "                    current_folder_dict[\"y1\"].append(_y1 / c_h)\n",
    "                    current_folder_dict[\"class\"].append(folder)\n",
    "                    \n",
    "                    image_name = f\"{New_Dataset_path}/{folder}/{image.replace('.jpg', '')}_{current_degrees}_{x}_{y}.jpg\"\n",
    "                    canvas.save(image_name)\n",
    "                    current_folder_dict[\"image_name\"].append(image_name)\n",
    "\n",
    "                    # Only 1\n",
    "                    # break              \n",
    "                # Only 1\n",
    "                # break         \n",
    "            # Only 1 Rotation\n",
    "            # break\n",
    "        # Test Only 1 Picture\n",
    "        \n",
    "    \n",
    "    df_current_folder = pd.DataFrame(current_folder_dict)\n",
    "    #print(df_current_folder.head())\n",
    "    df_current_folder.to_csv(f\"{New_Dataset_path}/{folder}/annotations.csv\")\n",
    "\n",
    "    # Test Only 1 Folder\n",
    "     \n"
   ]
  },
  {
   "cell_type": "code",
   "execution_count": 54,
   "metadata": {},
   "outputs": [
    {
     "name": "stderr",
     "output_type": "stream",
     "text": [
      "  0%|          | 0/10 [00:00<?, ?it/s]"
     ]
    },
    {
     "name": "stdout",
     "output_type": "stream",
     "text": [
      "Artocarpus Heterophyllus (Jackfruit)\n"
     ]
    },
    {
     "name": "stderr",
     "output_type": "stream",
     "text": [
      " 10%|█         | 1/10 [00:17<02:35, 17.33s/it]"
     ]
    },
    {
     "name": "stdout",
     "output_type": "stream",
     "text": [
      "Blumea Balsamifera (Sambong)\n"
     ]
    },
    {
     "name": "stderr",
     "output_type": "stream",
     "text": [
      " 20%|██        | 2/10 [00:22<01:22, 10.28s/it]"
     ]
    },
    {
     "name": "stdout",
     "output_type": "stream",
     "text": [
      "Citrus Limon (Lemon)\n"
     ]
    },
    {
     "name": "stderr",
     "output_type": "stream",
     "text": [
      " 30%|███       | 3/10 [00:26<00:50,  7.25s/it]"
     ]
    },
    {
     "name": "stdout",
     "output_type": "stream",
     "text": [
      "Jasminum (Jasmine)\n"
     ]
    },
    {
     "name": "stderr",
     "output_type": "stream",
     "text": [
      " 40%|████      | 4/10 [00:29<00:34,  5.79s/it]"
     ]
    },
    {
     "name": "stdout",
     "output_type": "stream",
     "text": [
      "Mangifera Indica (Mango)\n"
     ]
    },
    {
     "name": "stderr",
     "output_type": "stream",
     "text": [
      " 50%|█████     | 5/10 [00:33<00:25,  5.03s/it]"
     ]
    },
    {
     "name": "stdout",
     "output_type": "stream",
     "text": [
      "Mentha (Mint)\n"
     ]
    },
    {
     "name": "stderr",
     "output_type": "stream",
     "text": [
      " 60%|██████    | 6/10 [00:36<00:17,  4.35s/it]"
     ]
    },
    {
     "name": "stdout",
     "output_type": "stream",
     "text": [
      "Momordica Charantia (Ampalaya)\n"
     ]
    },
    {
     "name": "stderr",
     "output_type": "stream",
     "text": [
      " 70%|███████   | 7/10 [00:40<00:12,  4.11s/it]"
     ]
    },
    {
     "name": "stdout",
     "output_type": "stream",
     "text": [
      "Moringa Oleifera (Malunggay)\n"
     ]
    },
    {
     "name": "stderr",
     "output_type": "stream",
     "text": [
      " 80%|████████  | 8/10 [00:45<00:09,  4.51s/it]"
     ]
    },
    {
     "name": "stdout",
     "output_type": "stream",
     "text": [
      "Psidium Guajava (Guava)\n"
     ]
    },
    {
     "name": "stderr",
     "output_type": "stream",
     "text": [
      " 90%|█████████ | 9/10 [00:49<00:04,  4.34s/it]"
     ]
    },
    {
     "name": "stdout",
     "output_type": "stream",
     "text": [
      "Vitex Negundo (Lagundi)\n"
     ]
    },
    {
     "name": "stderr",
     "output_type": "stream",
     "text": [
      "100%|██████████| 10/10 [00:53<00:00,  5.35s/it]\n"
     ]
    }
   ],
   "source": [
    "for folder in tqdm(os.listdir(New_Dataset_path)):\n",
    "    train_folder = os.path.join(New_Dataset_path, folder, \"train\")\n",
    "    test_folder = os.path.join(New_Dataset_path, folder, \"test\")\n",
    "\n",
    "    if os.path.exists(train_folder):\n",
    "        continue\n",
    "\n",
    "    print(folder)\n",
    "    current_annotation_csv = list(filter(lambda x: \"csv\" in x, os.listdir(os.path.join(New_Dataset_path, folder))))[0]\n",
    "    #print(current_annotation_csv)\n",
    "\n",
    "    raw_df = pd.read_csv(os.path.join(New_Dataset_path, folder, current_annotation_csv))\n",
    "    current_image_size = len(raw_df[\"image_name\"])\n",
    "    train_size = int(0.8 * current_image_size)\n",
    "    \n",
    "    df = raw_df.copy()\n",
    "\n",
    "    train_df = df.sample(train_size)\n",
    "    test_df = df.drop(train_df.index, axis=0)\n",
    "    \n",
    "    #print(len(train_df), train_size, len(test_df))\n",
    "\n",
    "\n",
    "    \n",
    "    \n",
    "    if not os.path.exists(train_folder):\n",
    "        os.mkdir(train_folder)\n",
    "\n",
    "    if not os.path.exists(test_folder):\n",
    "        os.mkdir(test_folder)\n",
    "\n",
    "    for file in train_df[\"image_name\"].tolist():\n",
    "        image_file = file.split(\"/\")[-1]\n",
    "        new_image_path = os.path.join(train_folder, image_file)\n",
    "        shutil.move(file, new_image_path)\n",
    "\n",
    "    train_df[\"image_name\"] = train_df[\"image_name\"].map(lambda x: os.path.join(train_folder, x.split(\"/\")[-1]))\n",
    "    train_df.to_csv(os.path.join(New_Dataset_path, folder, \"train_annotations.csv\"))\n",
    "    \n",
    "    \n",
    "\n",
    "    for file in test_df[\"image_name\"].tolist():\n",
    "        image_file = file.split(\"/\")[-1]\n",
    "        new_image_path = os.path.join(test_folder, image_file)\n",
    "\n",
    "        shutil.move(file, new_image_path)\n",
    "    \n",
    "    test_df[\"image_name\"] = test_df[\"image_name\"].map(lambda x: os.path.join(test_folder, x.split(\"/\")[-1]))\n",
    "    test_df.to_csv(os.path.join(New_Dataset_path, folder, \"test_annotations.csv\"))\n",
    "\n",
    "    \n",
    "    \n",
    "    "
   ]
  },
  {
   "cell_type": "code",
   "execution_count": 57,
   "metadata": {},
   "outputs": [],
   "source": [
    "appended_files = []\n",
    "for folder in os.listdir(New_Dataset_path):\n",
    "    csv_files = []\n",
    "    for file in os.listdir(os.path.join(New_Dataset_path, folder)):\n",
    "        if (\"train\" in file or \"test\" in file) and \".csv\" in file:\n",
    "            df = pd.read_csv(os.path.join(New_Dataset_path, folder, file))\n",
    "            csv_files.append(df)\n",
    "\n",
    "    x = pd.concat(csv_files)\n",
    "    appended_files.append(x)"
   ]
  },
  {
   "cell_type": "code",
   "execution_count": 58,
   "metadata": {},
   "outputs": [
    {
     "data": {
      "text/html": [
       "<div>\n",
       "<style scoped>\n",
       "    .dataframe tbody tr th:only-of-type {\n",
       "        vertical-align: middle;\n",
       "    }\n",
       "\n",
       "    .dataframe tbody tr th {\n",
       "        vertical-align: top;\n",
       "    }\n",
       "\n",
       "    .dataframe thead th {\n",
       "        text-align: right;\n",
       "    }\n",
       "</style>\n",
       "<table border=\"1\" class=\"dataframe\">\n",
       "  <thead>\n",
       "    <tr style=\"text-align: right;\">\n",
       "      <th></th>\n",
       "      <th>Unnamed: 0.1</th>\n",
       "      <th>Unnamed: 0</th>\n",
       "      <th>image_name</th>\n",
       "      <th>x0</th>\n",
       "      <th>y0</th>\n",
       "      <th>x1</th>\n",
       "      <th>y1</th>\n",
       "      <th>class</th>\n",
       "    </tr>\n",
       "  </thead>\n",
       "  <tbody>\n",
       "    <tr>\n",
       "      <th>0</th>\n",
       "      <td>11</td>\n",
       "      <td>11</td>\n",
       "      <td>Transformed\\Artocarpus Heterophyllus (Jackfrui...</td>\n",
       "      <td>0.375</td>\n",
       "      <td>0.380</td>\n",
       "      <td>0.993718</td>\n",
       "      <td>0.998718</td>\n",
       "      <td>Artocarpus Heterophyllus (Jackfruit)</td>\n",
       "    </tr>\n",
       "    <tr>\n",
       "      <th>1</th>\n",
       "      <td>24</td>\n",
       "      <td>24</td>\n",
       "      <td>Transformed\\Artocarpus Heterophyllus (Jackfrui...</td>\n",
       "      <td>0.000</td>\n",
       "      <td>0.000</td>\n",
       "      <td>0.618718</td>\n",
       "      <td>0.618718</td>\n",
       "      <td>Artocarpus Heterophyllus (Jackfruit)</td>\n",
       "    </tr>\n",
       "    <tr>\n",
       "      <th>2</th>\n",
       "      <td>29</td>\n",
       "      <td>29</td>\n",
       "      <td>Transformed\\Artocarpus Heterophyllus (Jackfrui...</td>\n",
       "      <td>0.455</td>\n",
       "      <td>0.000</td>\n",
       "      <td>0.995555</td>\n",
       "      <td>0.606777</td>\n",
       "      <td>Artocarpus Heterophyllus (Jackfruit)</td>\n",
       "    </tr>\n",
       "    <tr>\n",
       "      <th>3</th>\n",
       "      <td>35</td>\n",
       "      <td>35</td>\n",
       "      <td>Transformed\\Artocarpus Heterophyllus (Jackfrui...</td>\n",
       "      <td>0.625</td>\n",
       "      <td>0.500</td>\n",
       "      <td>1.000000</td>\n",
       "      <td>1.000000</td>\n",
       "      <td>Artocarpus Heterophyllus (Jackfruit)</td>\n",
       "    </tr>\n",
       "    <tr>\n",
       "      <th>4</th>\n",
       "      <td>36</td>\n",
       "      <td>36</td>\n",
       "      <td>Transformed\\Artocarpus Heterophyllus (Jackfrui...</td>\n",
       "      <td>0.000</td>\n",
       "      <td>0.000</td>\n",
       "      <td>0.534997</td>\n",
       "      <td>0.604069</td>\n",
       "      <td>Artocarpus Heterophyllus (Jackfruit)</td>\n",
       "    </tr>\n",
       "    <tr>\n",
       "      <th>...</th>\n",
       "      <td>...</td>\n",
       "      <td>...</td>\n",
       "      <td>...</td>\n",
       "      <td>...</td>\n",
       "      <td>...</td>\n",
       "      <td>...</td>\n",
       "      <td>...</td>\n",
       "      <td>...</td>\n",
       "    </tr>\n",
       "    <tr>\n",
       "      <th>2878</th>\n",
       "      <td>2630</td>\n",
       "      <td>2630</td>\n",
       "      <td>Transformed\\Vitex Negundo (Lagundi)\\train\\44.j...</td>\n",
       "      <td>0.000</td>\n",
       "      <td>0.470</td>\n",
       "      <td>0.598962</td>\n",
       "      <td>0.992145</td>\n",
       "      <td>Vitex Negundo (Lagundi)</td>\n",
       "    </tr>\n",
       "    <tr>\n",
       "      <th>2879</th>\n",
       "      <td>485</td>\n",
       "      <td>485</td>\n",
       "      <td>Transformed\\Vitex Negundo (Lagundi)\\train\\16.j...</td>\n",
       "      <td>0.380</td>\n",
       "      <td>0.000</td>\n",
       "      <td>0.998718</td>\n",
       "      <td>0.618718</td>\n",
       "      <td>Vitex Negundo (Lagundi)</td>\n",
       "    </tr>\n",
       "    <tr>\n",
       "      <th>2880</th>\n",
       "      <td>2358</td>\n",
       "      <td>2358</td>\n",
       "      <td>Transformed\\Vitex Negundo (Lagundi)\\train\\40.j...</td>\n",
       "      <td>0.000</td>\n",
       "      <td>0.385</td>\n",
       "      <td>0.540555</td>\n",
       "      <td>0.991777</td>\n",
       "      <td>Vitex Negundo (Lagundi)</td>\n",
       "    </tr>\n",
       "    <tr>\n",
       "      <th>2881</th>\n",
       "      <td>3071</td>\n",
       "      <td>3071</td>\n",
       "      <td>Transformed\\Vitex Negundo (Lagundi)\\train\\50.j...</td>\n",
       "      <td>0.440</td>\n",
       "      <td>0.440</td>\n",
       "      <td>0.991543</td>\n",
       "      <td>0.991543</td>\n",
       "      <td>Vitex Negundo (Lagundi)</td>\n",
       "    </tr>\n",
       "    <tr>\n",
       "      <th>2882</th>\n",
       "      <td>631</td>\n",
       "      <td>631</td>\n",
       "      <td>Transformed\\Vitex Negundo (Lagundi)\\train\\18.j...</td>\n",
       "      <td>0.585</td>\n",
       "      <td>0.500</td>\n",
       "      <td>1.085000</td>\n",
       "      <td>1.000000</td>\n",
       "      <td>Vitex Negundo (Lagundi)</td>\n",
       "    </tr>\n",
       "  </tbody>\n",
       "</table>\n",
       "<p>36448 rows × 8 columns</p>\n",
       "</div>"
      ],
      "text/plain": [
       "      Unnamed: 0.1  Unnamed: 0  \\\n",
       "0               11          11   \n",
       "1               24          24   \n",
       "2               29          29   \n",
       "3               35          35   \n",
       "4               36          36   \n",
       "...            ...         ...   \n",
       "2878          2630        2630   \n",
       "2879           485         485   \n",
       "2880          2358        2358   \n",
       "2881          3071        3071   \n",
       "2882           631         631   \n",
       "\n",
       "                                             image_name     x0     y0  \\\n",
       "0     Transformed\\Artocarpus Heterophyllus (Jackfrui...  0.375  0.380   \n",
       "1     Transformed\\Artocarpus Heterophyllus (Jackfrui...  0.000  0.000   \n",
       "2     Transformed\\Artocarpus Heterophyllus (Jackfrui...  0.455  0.000   \n",
       "3     Transformed\\Artocarpus Heterophyllus (Jackfrui...  0.625  0.500   \n",
       "4     Transformed\\Artocarpus Heterophyllus (Jackfrui...  0.000  0.000   \n",
       "...                                                 ...    ...    ...   \n",
       "2878  Transformed\\Vitex Negundo (Lagundi)\\train\\44.j...  0.000  0.470   \n",
       "2879  Transformed\\Vitex Negundo (Lagundi)\\train\\16.j...  0.380  0.000   \n",
       "2880  Transformed\\Vitex Negundo (Lagundi)\\train\\40.j...  0.000  0.385   \n",
       "2881  Transformed\\Vitex Negundo (Lagundi)\\train\\50.j...  0.440  0.440   \n",
       "2882  Transformed\\Vitex Negundo (Lagundi)\\train\\18.j...  0.585  0.500   \n",
       "\n",
       "            x1        y1                                 class  \n",
       "0     0.993718  0.998718  Artocarpus Heterophyllus (Jackfruit)  \n",
       "1     0.618718  0.618718  Artocarpus Heterophyllus (Jackfruit)  \n",
       "2     0.995555  0.606777  Artocarpus Heterophyllus (Jackfruit)  \n",
       "3     1.000000  1.000000  Artocarpus Heterophyllus (Jackfruit)  \n",
       "4     0.534997  0.604069  Artocarpus Heterophyllus (Jackfruit)  \n",
       "...        ...       ...                                   ...  \n",
       "2878  0.598962  0.992145               Vitex Negundo (Lagundi)  \n",
       "2879  0.998718  0.618718               Vitex Negundo (Lagundi)  \n",
       "2880  0.540555  0.991777               Vitex Negundo (Lagundi)  \n",
       "2881  0.991543  0.991543               Vitex Negundo (Lagundi)  \n",
       "2882  1.085000  1.000000               Vitex Negundo (Lagundi)  \n",
       "\n",
       "[36448 rows x 8 columns]"
      ]
     },
     "execution_count": 58,
     "metadata": {},
     "output_type": "execute_result"
    }
   ],
   "source": [
    "final_csv = pd.concat(appended_files)\n",
    "final_csv"
   ]
  },
  {
   "cell_type": "code",
   "execution_count": 59,
   "metadata": {},
   "outputs": [],
   "source": [
    "final_csv.to_csv(\"Full Dataset Annotations.csv\")"
   ]
  },
  {
   "cell_type": "code",
   "execution_count": 60,
   "metadata": {},
   "outputs": [],
   "source": [
    "final_csv = pd.read_csv(\"Full Dataset Annotations.csv\")\n",
    "allowed_columns = [\"image_name\",\"x0\",\"y0\",\"x1\",\"y1\",\"class\"]\n",
    "unrecognized_columns = list(filter(lambda x: x not in allowed_columns, final_csv.columns.tolist()))\n",
    "final_csv.drop(labels=unrecognized_columns, axis=1, inplace=True)\n",
    "final_csv.to_csv(\"Full Dataset Annotations.csv\", index=False)"
   ]
  },
  {
   "cell_type": "code",
   "execution_count": 61,
   "metadata": {},
   "outputs": [
    {
     "data": {
      "text/html": [
       "<div>\n",
       "<style scoped>\n",
       "    .dataframe tbody tr th:only-of-type {\n",
       "        vertical-align: middle;\n",
       "    }\n",
       "\n",
       "    .dataframe tbody tr th {\n",
       "        vertical-align: top;\n",
       "    }\n",
       "\n",
       "    .dataframe thead th {\n",
       "        text-align: right;\n",
       "    }\n",
       "</style>\n",
       "<table border=\"1\" class=\"dataframe\">\n",
       "  <thead>\n",
       "    <tr style=\"text-align: right;\">\n",
       "      <th></th>\n",
       "      <th>image_name</th>\n",
       "      <th>x0</th>\n",
       "      <th>y0</th>\n",
       "      <th>x1</th>\n",
       "      <th>y1</th>\n",
       "      <th>class</th>\n",
       "    </tr>\n",
       "  </thead>\n",
       "  <tbody>\n",
       "    <tr>\n",
       "      <th>0</th>\n",
       "      <td>Transformed\\Artocarpus Heterophyllus (Jackfrui...</td>\n",
       "      <td>0.375</td>\n",
       "      <td>0.380</td>\n",
       "      <td>0.993718</td>\n",
       "      <td>0.998718</td>\n",
       "      <td>Artocarpus Heterophyllus (Jackfruit)</td>\n",
       "    </tr>\n",
       "    <tr>\n",
       "      <th>1</th>\n",
       "      <td>Transformed\\Artocarpus Heterophyllus (Jackfrui...</td>\n",
       "      <td>0.000</td>\n",
       "      <td>0.000</td>\n",
       "      <td>0.618718</td>\n",
       "      <td>0.618718</td>\n",
       "      <td>Artocarpus Heterophyllus (Jackfruit)</td>\n",
       "    </tr>\n",
       "    <tr>\n",
       "      <th>2</th>\n",
       "      <td>Transformed\\Artocarpus Heterophyllus (Jackfrui...</td>\n",
       "      <td>0.455</td>\n",
       "      <td>0.000</td>\n",
       "      <td>0.995555</td>\n",
       "      <td>0.606777</td>\n",
       "      <td>Artocarpus Heterophyllus (Jackfruit)</td>\n",
       "    </tr>\n",
       "    <tr>\n",
       "      <th>3</th>\n",
       "      <td>Transformed\\Artocarpus Heterophyllus (Jackfrui...</td>\n",
       "      <td>0.625</td>\n",
       "      <td>0.500</td>\n",
       "      <td>1.000000</td>\n",
       "      <td>1.000000</td>\n",
       "      <td>Artocarpus Heterophyllus (Jackfruit)</td>\n",
       "    </tr>\n",
       "    <tr>\n",
       "      <th>4</th>\n",
       "      <td>Transformed\\Artocarpus Heterophyllus (Jackfrui...</td>\n",
       "      <td>0.000</td>\n",
       "      <td>0.000</td>\n",
       "      <td>0.534997</td>\n",
       "      <td>0.604069</td>\n",
       "      <td>Artocarpus Heterophyllus (Jackfruit)</td>\n",
       "    </tr>\n",
       "    <tr>\n",
       "      <th>...</th>\n",
       "      <td>...</td>\n",
       "      <td>...</td>\n",
       "      <td>...</td>\n",
       "      <td>...</td>\n",
       "      <td>...</td>\n",
       "      <td>...</td>\n",
       "    </tr>\n",
       "    <tr>\n",
       "      <th>36443</th>\n",
       "      <td>Transformed\\Vitex Negundo (Lagundi)\\train\\44.j...</td>\n",
       "      <td>0.000</td>\n",
       "      <td>0.470</td>\n",
       "      <td>0.598962</td>\n",
       "      <td>0.992145</td>\n",
       "      <td>Vitex Negundo (Lagundi)</td>\n",
       "    </tr>\n",
       "    <tr>\n",
       "      <th>36444</th>\n",
       "      <td>Transformed\\Vitex Negundo (Lagundi)\\train\\16.j...</td>\n",
       "      <td>0.380</td>\n",
       "      <td>0.000</td>\n",
       "      <td>0.998718</td>\n",
       "      <td>0.618718</td>\n",
       "      <td>Vitex Negundo (Lagundi)</td>\n",
       "    </tr>\n",
       "    <tr>\n",
       "      <th>36445</th>\n",
       "      <td>Transformed\\Vitex Negundo (Lagundi)\\train\\40.j...</td>\n",
       "      <td>0.000</td>\n",
       "      <td>0.385</td>\n",
       "      <td>0.540555</td>\n",
       "      <td>0.991777</td>\n",
       "      <td>Vitex Negundo (Lagundi)</td>\n",
       "    </tr>\n",
       "    <tr>\n",
       "      <th>36446</th>\n",
       "      <td>Transformed\\Vitex Negundo (Lagundi)\\train\\50.j...</td>\n",
       "      <td>0.440</td>\n",
       "      <td>0.440</td>\n",
       "      <td>0.991543</td>\n",
       "      <td>0.991543</td>\n",
       "      <td>Vitex Negundo (Lagundi)</td>\n",
       "    </tr>\n",
       "    <tr>\n",
       "      <th>36447</th>\n",
       "      <td>Transformed\\Vitex Negundo (Lagundi)\\train\\18.j...</td>\n",
       "      <td>0.585</td>\n",
       "      <td>0.500</td>\n",
       "      <td>1.085000</td>\n",
       "      <td>1.000000</td>\n",
       "      <td>Vitex Negundo (Lagundi)</td>\n",
       "    </tr>\n",
       "  </tbody>\n",
       "</table>\n",
       "<p>36448 rows × 6 columns</p>\n",
       "</div>"
      ],
      "text/plain": [
       "                                              image_name     x0     y0  \\\n",
       "0      Transformed\\Artocarpus Heterophyllus (Jackfrui...  0.375  0.380   \n",
       "1      Transformed\\Artocarpus Heterophyllus (Jackfrui...  0.000  0.000   \n",
       "2      Transformed\\Artocarpus Heterophyllus (Jackfrui...  0.455  0.000   \n",
       "3      Transformed\\Artocarpus Heterophyllus (Jackfrui...  0.625  0.500   \n",
       "4      Transformed\\Artocarpus Heterophyllus (Jackfrui...  0.000  0.000   \n",
       "...                                                  ...    ...    ...   \n",
       "36443  Transformed\\Vitex Negundo (Lagundi)\\train\\44.j...  0.000  0.470   \n",
       "36444  Transformed\\Vitex Negundo (Lagundi)\\train\\16.j...  0.380  0.000   \n",
       "36445  Transformed\\Vitex Negundo (Lagundi)\\train\\40.j...  0.000  0.385   \n",
       "36446  Transformed\\Vitex Negundo (Lagundi)\\train\\50.j...  0.440  0.440   \n",
       "36447  Transformed\\Vitex Negundo (Lagundi)\\train\\18.j...  0.585  0.500   \n",
       "\n",
       "             x1        y1                                 class  \n",
       "0      0.993718  0.998718  Artocarpus Heterophyllus (Jackfruit)  \n",
       "1      0.618718  0.618718  Artocarpus Heterophyllus (Jackfruit)  \n",
       "2      0.995555  0.606777  Artocarpus Heterophyllus (Jackfruit)  \n",
       "3      1.000000  1.000000  Artocarpus Heterophyllus (Jackfruit)  \n",
       "4      0.534997  0.604069  Artocarpus Heterophyllus (Jackfruit)  \n",
       "...         ...       ...                                   ...  \n",
       "36443  0.598962  0.992145               Vitex Negundo (Lagundi)  \n",
       "36444  0.998718  0.618718               Vitex Negundo (Lagundi)  \n",
       "36445  0.540555  0.991777               Vitex Negundo (Lagundi)  \n",
       "36446  0.991543  0.991543               Vitex Negundo (Lagundi)  \n",
       "36447  1.085000  1.000000               Vitex Negundo (Lagundi)  \n",
       "\n",
       "[36448 rows x 6 columns]"
      ]
     },
     "execution_count": 61,
     "metadata": {},
     "output_type": "execute_result"
    }
   ],
   "source": [
    "fixed_csv = pd.read_csv(\"Full Dataset Annotations.csv\")\n",
    "fixed_csv"
   ]
  },
  {
   "cell_type": "code",
   "execution_count": 41,
   "metadata": {},
   "outputs": [
    {
     "data": {
      "image/png": "[encoded data removed]",
      "text/plain": [
       "<Figure size 640x480 with 1 Axes>"
      ]
     },
     "metadata": {},
     "output_type": "display_data"
    },
    {
     "name": "stdout",
     "output_type": "stream",
     "text": [
      "Rotated bounding rectangle: (289,166), (374,251)\n"
     ]
    }
   ],
   "source": [
    "import numpy as np\n",
    "from numpy import sin, cos, sqrt, pi\n",
    "import math\n",
    "import matplotlib.pyplot as plt \n",
    "\n",
    "center = (332, 209)\n",
    "width = 30\n",
    "height = 30\n",
    "degrees = 130\n",
    "\n",
    "# topleft\n",
    "pt1 = [center[0] - width, center[1] - height]\n",
    "# btmleft\n",
    "pt2 = [center[0] - width, center[1] + height]\n",
    "# btmright\n",
    "pt3 = [center[0] + width, center[1] + height]\n",
    "# topright\n",
    "pt4 = [center[0] + width, center[1] - height]\n",
    "\n",
    "def rotate(origin, point, angle):\n",
    "    \"\"\"\n",
    "    Rotate a point counterclockwise by a given angle around a given origin.\n",
    "    The angle should be given in radians.\n",
    "    \n",
    "    modified from answer here: https://stackoverflow.com/questions/34372480/rotate-point-about-another-point-in-degrees-python\n",
    "    \"\"\"\n",
    "    ox, oy = origin\n",
    "    px, py = point\n",
    "\n",
    "    qx = ox + math.cos(angle) * (px - ox) - math.sin(angle) * (py - oy)\n",
    "    qy = oy + math.sin(angle) * (px - ox) + math.cos(angle) * (py - oy)\n",
    "    return int(qx), int(qy)\n",
    "\n",
    "rectangle = [pt1, pt2, pt3, pt4, pt1]\n",
    "\n",
    "rectangle_rotated = [rotate(center, pt,  math.radians(degrees)) for pt in rectangle]\n",
    "\n",
    "rectangle = np.array(rectangle)\n",
    "rectangle_rotated = np.array(rectangle_rotated)\n",
    "\n",
    "# these are what you need\n",
    "x_min, y_min = np.min(rectangle_rotated,axis=0)\n",
    "x_max, y_max = np.max(rectangle_rotated,axis=0)\n",
    "\n",
    "# create bounding rect points\n",
    "pt1 = [x_min, y_min]\n",
    "pt2 = [x_min, y_max]\n",
    "pt3 = [x_max, y_max]\n",
    "pt4 = [x_max, y_min ]\n",
    "\n",
    "rectangle_bounding = [pt1, pt2, pt3, pt4, pt1]\n",
    "\n",
    "# plot input rectangle in blue, rotated in red, bounding in green\n",
    "plt.plot(np.array(rectangle)[:,0], np.array(rectangle)[:,1], \"bo-\")\n",
    "plt.plot(np.array(rectangle_rotated)[:,0], np.array(rectangle_rotated)[:,1], \"ro-\")\n",
    "plt.plot(np.array(rectangle_bounding)[:,0], np.array(rectangle_bounding)[:,1], \"go-\")\n",
    "plt.show()\n",
    "\n",
    "print(f\"Rotated bounding rectangle: ({x_min},{y_min}), ({x_max},{y_max})\")"
   ]
  }
 ],
 "metadata": {
  "kernelspec": {
   "display_name": "Python 3",
   "language": "python",
   "name": "python3"
  },
  "language_info": {
   "codemirror_mode": {
    "name": "ipython",
    "version": 3
   },
   "file_extension": ".py",
   "mimetype": "text/x-python",
   "name": "python",
   "nbconvert_exporter": "python",
   "pygments_lexer": "ipython3",
   "version": "3.10.0"
  }
 },
 "nbformat": 4,
 "nbformat_minor": 2
}
