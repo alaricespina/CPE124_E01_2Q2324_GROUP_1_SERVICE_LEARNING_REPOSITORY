{
 "cells": [
  {
   "cell_type": "code",
   "execution_count": 1,
   "metadata": {},
   "outputs": [],
   "source": [
    "import os \n",
    "import tensorflow \n",
    "from PIL import Image, ImageDraw\n",
    "import math\n",
    "import pandas as pd \n",
    "from tqdm import tqdm \n"
   ]
  },
  {
   "cell_type": "code",
   "execution_count": 2,
   "metadata": {},
   "outputs": [
    {
     "name": "stdout",
     "output_type": "stream",
     "text": [
      "['Mentha (Mint)']\n"
     ]
    }
   ],
   "source": [
    "folder_sources = []\n",
    "Orig_Dataset_path = \"Segmented Herbal Leaf images\"\n",
    "New_Dataset_path = \"Transformed\"\n",
    "\n",
    "for file in os.listdir(Orig_Dataset_path):\n",
    "    folder_sources.append(file)\n",
    "        \n",
    "print(folder_sources)"
   ]
  },
  {
   "cell_type": "code",
   "execution_count": 4,
   "metadata": {},
   "outputs": [],
   "source": [
    "for folder in folder_sources:\n",
    "    f_ = os.path.join(New_Dataset_path, folder)\n",
    "    if not os.path.exists(f_):\n",
    "        os.mkdir(f_)\n",
    "        print(\"Created Path:\", f_)"
   ]
  },
  {
   "cell_type": "code",
   "execution_count": 3,
   "metadata": {},
   "outputs": [],
   "source": [
    "# Degrees is in radians\n",
    "def calculate_new_coords(degrees, x, y, iw, ih):\n",
    "    res_x = iw / 2 + (x - iw / 2) * math.cos(degrees) + (y - ih / 2) * math.sin(degrees)\n",
    "    res_y = ih / 2 - (x - iw / 2) * math.sin(degrees) + (y - ih / 2) * math.cos(degrees)\n",
    "    return (res_x, res_y)"
   ]
  },
  {
   "cell_type": "code",
   "execution_count": 5,
   "metadata": {},
   "outputs": [],
   "source": [
    "BASE_IMAGE_SIZE = ((100, 100))\n",
    "BASE_CANVAS_SIZE = ((200, 200))\n",
    "X_VARIATIONS = 5\n",
    "Y_VARIATIONS = 5\n",
    "ROTATION_VARIATION = 36\n",
    "ROTATION_DEGREES = 360 / ROTATION_VARIATION\n",
    "DRAW_BOUNDING_BOX = False\n",
    "BORDER_WIDTH = 5 \n",
    "BORDER_COLOR = \"Blue\""
   ]
  },
  {
   "cell_type": "code",
   "execution_count": 6,
   "metadata": {},
   "outputs": [
    {
     "name": "stderr",
     "output_type": "stream",
     "text": [
      "  0%|          | 0/1 [00:00<?, ?it/s]"
     ]
    },
    {
     "name": "stdout",
     "output_type": "stream",
     "text": [
      "1.jpg\n",
      "10.jpg\n",
      "11.jpg\n",
      "12.jpg\n",
      "13.jpg\n",
      "14.jpg\n",
      "15.jpg\n",
      "16.jpg\n",
      "17.jpg\n",
      "18.jpg\n",
      "19.jpg\n",
      "2.jpg\n",
      "20.jpg\n",
      "21.jpg\n",
      "22.jpg\n",
      "23.jpg\n",
      "24.jpg\n",
      "25.jpg\n",
      "26.jpg\n",
      "27.jpg\n",
      "28.jpg\n",
      "29.jpg\n",
      "3.jpg\n",
      "30.jpg\n",
      "31.jpg\n",
      "32.jpg\n",
      "33.jpg\n",
      "34.jpg\n",
      "35.jpg\n",
      "36.jpg\n",
      "37.jpg\n",
      "38.jpg\n",
      "39.jpg\n",
      "4.jpg\n",
      "40.jpg\n",
      "41.jpg\n",
      "42.jpg\n",
      "43.jpg\n",
      "44.jpg\n",
      "45.jpg\n",
      "46.jpg\n",
      "47.jpg\n",
      "48.jpg\n",
      "49.jpg\n",
      "5.jpg\n",
      "50.jpg\n",
      "6.jpg\n",
      "8.jpg\n",
      "9.jpg\n",
      "  image_name   x0   y0   x1   y1   x2     y2   x3     y3          class\n",
      "0      1.jpg  0.0  0.0  0.5  0.0  0.5  0.375  0.0  0.375  Mentha (Mint)\n",
      "1      1.jpg  0.1  0.0  0.6  0.0  0.6  0.375  0.1  0.375  Mentha (Mint)\n",
      "2      1.jpg  0.2  0.0  0.7  0.0  0.7  0.375  0.2  0.375  Mentha (Mint)\n",
      "3      1.jpg  0.3  0.0  0.8  0.0  0.8  0.375  0.3  0.375  Mentha (Mint)\n",
      "4      1.jpg  0.4  0.0  0.9  0.0  0.9  0.375  0.4  0.375  Mentha (Mint)\n"
     ]
    },
    {
     "name": "stderr",
     "output_type": "stream",
     "text": [
      "100%|██████████| 1/1 [01:33<00:00, 93.83s/it]\n"
     ]
    }
   ],
   "source": [
    "for folder in tqdm(folder_sources):\n",
    "    current_folder_dict = {\n",
    "        \"image_name\" : [],\n",
    "        \"x0\" : [],\n",
    "        \"y0\" : [],\n",
    "        \"x1\" : [],\n",
    "        \"y1\" : [],\n",
    "        \"x2\" : [],\n",
    "        \"y2\" : [],\n",
    "        \"x3\" : [],\n",
    "        \"y3\" : [],\n",
    "        \"class\" : []\n",
    "    }\n",
    "\n",
    "    for image in os.listdir(os.path.join(Orig_Dataset_path, folder)):\n",
    "        print(image)\n",
    "\n",
    "        current_image = Image.open(os.path.join(Orig_Dataset_path, folder, image))\n",
    "        current_image.thumbnail(BASE_IMAGE_SIZE)\n",
    "        \n",
    "        x0, y0 = (0, 0)\n",
    "        x1, y1 = current_image.size \n",
    "        iw, ih = current_image.size \n",
    "        \n",
    "        # Rotate Image\n",
    "        for i in range(ROTATION_VARIATION + 1):\n",
    "            current_degrees = int(i * ROTATION_DEGREES)\n",
    "\n",
    "            rotated_image = current_image.copy()\n",
    "            rotated_image = rotated_image.rotate(current_degrees, expand=True)\n",
    "\n",
    "            r_i_width, r_i_height = rotated_image.size\n",
    "\n",
    "            original_bbox_coords = [(x0, y0), (x1, y0), (x1, y1), (x0, y1)]\n",
    "\n",
    "            _degrees = math.radians(current_degrees)\n",
    "\n",
    "            new_coords = []\n",
    "            _x, _y = 0, 1\n",
    "            \n",
    "            for x, y in original_bbox_coords:\n",
    "                __x, __y = calculate_new_coords(_degrees, x, y, iw, ih)\n",
    "                _x = min(__x, _x)\n",
    "                _y = max(__y, _y)\n",
    "                new_coords.append((__x, __y))\n",
    "\n",
    "            excess_x = 0 - _x \n",
    "            excess_y = r_i_height - _y\n",
    "            \n",
    "            final_bbox_coords = [(x + excess_x, y + excess_y) for x, y in new_coords]\n",
    "                \n",
    "            # Transposition\n",
    "            c_w , c_h = BASE_CANVAS_SIZE\n",
    "\n",
    "            x_steps = abs(r_i_width - c_w) / X_VARIATIONS\n",
    "            y_steps = abs(r_i_height - c_h) / Y_VARIATIONS\n",
    "            \n",
    "            for y in range(Y_VARIATIONS + 1):\n",
    "                for x in range(X_VARIATIONS + 1):\n",
    "                    canvas = Image.new(\"RGB\", BASE_CANVAS_SIZE)\n",
    "                    x_movement, y_movement = int(x_steps) * x, int(y_steps) * y\n",
    "                    canvas.paste(rotated_image, (x_movement, y_movement))\n",
    "                    \n",
    "\n",
    "                    transposed_bbox_coords = [(x + x_movement, y + y_movement) for x, y in final_bbox_coords]\n",
    "\n",
    "                    if DRAW_BOUNDING_BOX:\n",
    "                        _d = ImageDraw.Draw(canvas)\n",
    "                        _d.polygon(transposed_bbox_coords, width=BORDER_WIDTH, outline=BORDER_COLOR)\n",
    "\n",
    "                    #display(canvas)\n",
    "\n",
    "                    c0, c1, c2, c3 = transposed_bbox_coords\n",
    "                    _x0, _y0 = c0 \n",
    "                    _x1, _y1 = c1\n",
    "                    _x2, _y2 = c2\n",
    "                    _x3, _y3 = c3\n",
    "\n",
    "                    current_folder_dict[\"image_name\"].append(image)\n",
    "                    current_folder_dict[\"x0\"].append(_x0 / c_w) \n",
    "                    current_folder_dict[\"y0\"].append(_y0 / c_h)\n",
    "                    current_folder_dict[\"x1\"].append(_x1 / c_w) \n",
    "                    current_folder_dict[\"y1\"].append(_y1 / c_h)\n",
    "                    current_folder_dict[\"x2\"].append(_x2 / c_w) \n",
    "                    current_folder_dict[\"y2\"].append(_y2 / c_h)\n",
    "                    current_folder_dict[\"x3\"].append(_x3 / c_w)\n",
    "                    current_folder_dict[\"y3\"].append(_y3 / c_h)\n",
    "                    current_folder_dict[\"class\"].append(folder)\n",
    "                    \n",
    "                    image_name = f\"{New_Dataset_path}/{folder}/{image}_{current_degrees}_{x}_{y}.jpg\"\n",
    "                    canvas.save(image_name)\n",
    "\n",
    "                    # Only 1\n",
    "                    # break              \n",
    "                # Only 1\n",
    "                # break         \n",
    "            # Only 1 Rotation\n",
    "            # break\n",
    "        # Test Only 1 Picture\n",
    "        # break \n",
    "    \n",
    "    df_current_folder = pd.DataFrame(current_folder_dict)\n",
    "    print(df_current_folder.head())\n",
    "    df_current_folder.to_csv(f\"{New_Dataset_path}/{folder}/annotations.csv\")\n",
    "\n",
    "    # Test Only 1 Folder\n",
    "    # break \n"
   ]
  },
  {
   "cell_type": "code",
   "execution_count": 7,
   "metadata": {},
   "outputs": [
    {
     "name": "stdout",
     "output_type": "stream",
     "text": [
      "annotations.csv\n",
      "annotations.csv\n",
      "annotations.csv\n",
      "annotations.csv\n",
      "annotations.csv\n",
      "annotations.csv\n",
      "annotations.csv\n",
      "annotations.csv\n",
      "annotations.csv\n",
      "annotations.csv\n"
     ]
    }
   ],
   "source": [
    "for folder in os.listdir(New_Dataset_path):\n",
    "    for file in os.listdir(os.path.join(New_Dataset_path, folder)):\n",
    "        if \".csv\" in file:\n",
    "            print(file)"
   ]
  }
 ],
 "metadata": {
  "kernelspec": {
   "display_name": "Python 3",
   "language": "python",
   "name": "python3"
  },
  "language_info": {
   "codemirror_mode": {
    "name": "ipython",
    "version": 3
   },
   "file_extension": ".py",
   "mimetype": "text/x-python",
   "name": "python",
   "nbconvert_exporter": "python",
   "pygments_lexer": "ipython3",
   "version": "3.10.0"
  }
 },
 "nbformat": 4,
 "nbformat_minor": 2
}
