{
 "cells": [
  {
   "cell_type": "code",
   "execution_count": null,
   "metadata": {},
   "outputs": [],
   "source": [
    "import pandas as pd \n",
    "import cv2 \n"
   ]
  },
  {
   "cell_type": "code",
   "execution_count": null,
   "metadata": {},
   "outputs": [],
   "source": [
    "# Load M\n"
   ]
  },
  {
   "cell_type": "code",
   "execution_count": null,
   "metadata": {},
   "outputs": [],
   "source": [
    "# Model 1\n",
    "# Le Net 5 Variant\n",
    "\n",
    "# Model 2\n",
    "# Mobile Net Variant \n",
    "\n",
    "# Model 3\n",
    "# Squeeze Net Variant\n",
    "\n",
    "# Model 4\n",
    "# Shuffle Net Variant\n",
    "\n",
    "# Model 5\n",
    "# Ghost Net Variant\n",
    "\n",
    "# Model 6\n",
    "# Nas Net Variant  / Efficient Net\n",
    "\n",
    "# Model 6\n",
    "# ResNet Variant\n",
    "\n",
    "# Model 7\n",
    "# Inception Variant\n",
    "\n",
    "# Model 8\n",
    "# VGG Variant"
   ]
  }
 ],
 "metadata": {
  "language_info": {
   "name": "python"
  }
 },
 "nbformat": 4,
 "nbformat_minor": 2
}
