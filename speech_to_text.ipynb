{
 "cells": [
  {
   "cell_type": "markdown",
   "metadata": {},
   "source": [
    "# SPEECH TO TEXT USING OpenAi Whisper Pre-trained Model"
   ]
  },
  {
   "cell_type": "markdown",
   "metadata": {},
   "source": [
    "Load the Model"
   ]
  },
  {
   "cell_type": "code",
   "execution_count": 1,
   "metadata": {},
   "outputs": [],
   "source": [
    "import whisper\n",
    "\n",
    "model = whisper.load_model(\"base\")"
   ]
  },
  {
   "cell_type": "markdown",
   "metadata": {},
   "source": [
    "Setup SpeechRecognition Library and Record the Audio"
   ]
  },
  {
   "cell_type": "code",
   "execution_count": 67,
   "metadata": {},
   "outputs": [
    {
     "name": "stdout",
     "output_type": "stream",
     "text": [
      "Start Talking\n",
      "Done Recording\n",
      "Recording File Saved\n"
     ]
    }
   ],
   "source": [
    "import speech_recognition as sr\n",
    "#Set SR Instance\n",
    "r = sr.Recognizer()\n",
    "#Specify Microphone Device which may vary\n",
    "mic = sr.Microphone(device_index=1)\n",
    "\n",
    "#Start Recording Using Specified Microphone Device\n",
    "#The Recording would automatically stop once silence is recognized\n",
    "with mic as source:\n",
    "    r.adjust_for_ambient_noise(source)\n",
    "    print(\"Start Talking\")\n",
    "    audio = r.listen(source)\n",
    "print(\"Done Recording\")\n",
    "\n",
    "with open(\"input_audio.wav\", \"wb\") as file:\n",
    "    file.write(audio.get_wav_data())\n",
    "file.close()\n",
    "print(\"Recording File Saved\")\n"
   ]
  },
  {
   "cell_type": "markdown",
   "metadata": {},
   "source": [
    "Load the Audio and Pad or Trim to 30s span"
   ]
  },
  {
   "cell_type": "code",
   "execution_count": 68,
   "metadata": {},
   "outputs": [],
   "source": [
    "theAudio = whisper.load_audio(\"input_audio.wav\")\n",
    "theAudio = whisper.pad_or_trim(theAudio)"
   ]
  },
  {
   "cell_type": "markdown",
   "metadata": {},
   "source": [
    "Make log-Mel spectrogram and Move to the same device as model"
   ]
  },
  {
   "cell_type": "code",
   "execution_count": 69,
   "metadata": {},
   "outputs": [],
   "source": [
    "m = whisper.log_mel_spectrogram(theAudio).to(model.device)"
   ]
  },
  {
   "cell_type": "markdown",
   "metadata": {},
   "source": [
    "Detect the Language of the Recorded Audio"
   ]
  },
  {
   "cell_type": "code",
   "execution_count": 70,
   "metadata": {},
   "outputs": [
    {
     "name": "stdout",
     "output_type": "stream",
     "text": [
      "Detected language: id\n"
     ]
    }
   ],
   "source": [
    "_, probs = model.detect_language(m)\n",
    "print(f\"Detected language: {max(probs, key=probs.get)}\")"
   ]
  },
  {
   "cell_type": "markdown",
   "metadata": {},
   "source": [
    "Decode the Audio"
   ]
  },
  {
   "cell_type": "code",
   "execution_count": 71,
   "metadata": {},
   "outputs": [],
   "source": [
    "options = whisper.DecodingOptions(fp16=False)\n",
    "output = whisper.decode(model, m, options)"
   ]
  },
  {
   "cell_type": "markdown",
   "metadata": {},
   "source": [
    "Get the Text from Converted Audio"
   ]
  },
  {
   "cell_type": "code",
   "execution_count": 72,
   "metadata": {},
   "outputs": [
    {
     "name": "stdout",
     "output_type": "stream",
     "text": [
      "Halo, abri nyanyi! Waaah! Oh maaagaaah!\n"
     ]
    }
   ],
   "source": [
    "transcription = output.text\n",
    "print(transcription)"
   ]
  },
  {
   "cell_type": "markdown",
   "metadata": {},
   "source": [
    "Delete File After Extracting the Text"
   ]
  },
  {
   "cell_type": "code",
   "execution_count": 73,
   "metadata": {},
   "outputs": [],
   "source": [
    "import os\n",
    "os.remove(\"input_audio.wav\")"
   ]
  },
  {
   "cell_type": "code",
   "execution_count": null,
   "metadata": {},
   "outputs": [],
   "source": []
  }
 ],
 "metadata": {
  "kernelspec": {
   "display_name": "Python 3",
   "language": "python",
   "name": "python3"
  },
  "language_info": {
   "codemirror_mode": {
    "name": "ipython",
    "version": 3
   },
   "file_extension": ".py",
   "mimetype": "text/x-python",
   "name": "python",
   "nbconvert_exporter": "python",
   "pygments_lexer": "ipython3",
   "version": "3.10.4"
  }
 },
 "nbformat": 4,
 "nbformat_minor": 2
}
